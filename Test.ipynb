{
 "cells": [
  {
   "cell_type": "markdown",
   "id": "b306286c",
   "metadata": {},
   "source": [
    "![This is an image](https://iwaco.ma/webroot/style/images/logo.png)\n",
    "\n",
    "# Test iwaco"
   ]
  },
  {
   "cell_type": "markdown",
   "id": "afc459c9",
   "metadata": {},
   "source": [
    "## Partie I\n",
    "### Informations générales"
   ]
  },
  {
   "cell_type": "markdown",
   "id": "fce0ebad",
   "metadata": {},
   "source": [
    "1. Nom et prénom"
   ]
  },
  {
   "cell_type": "markdown",
   "id": "a130e113",
   "metadata": {},
   "source": [
    "2. Actuallement vous\n",
    "    1. Travaillez\n",
    "    2. Etudiez\n",
    "    3. Etes en Stage\n",
    "    4. En recherche active"
   ]
  },
  {
   "cell_type": "markdown",
   "id": "7d35753b",
   "metadata": {},
   "source": [
    "3. Vous voulez travailler en tant que\n",
    "    1. developpeur frontend\n",
    "    2. developpeur backend\n",
    "    3. developpeur mobile"
   ]
  },
  {
   "cell_type": "markdown",
   "id": "40013554",
   "metadata": {},
   "source": [
    "4. combien d'année d'expérience avez-vous?"
   ]
  },
  {
   "cell_type": "markdown",
   "id": "199242f5",
   "metadata": {},
   "source": [
    "## Partie II\n",
    "### Questions Générales"
   ]
  },
  {
   "cell_type": "markdown",
   "id": "15fae605",
   "metadata": {},
   "source": [
    "1. C'est quoi \n",
    "    1. Git? \n",
    "    2. Sass? \n",
    "    3. Composer? \n",
    "    4. Object Pool Pattern (Design Patterns)"
   ]
  },
  {
   "cell_type": "markdown",
   "id": "6981eb8b",
   "metadata": {},
   "source": [
    "2. A quoi sert la commande `git diff`?"
   ]
  },
  {
   "cell_type": "markdown",
   "id": "90623434",
   "metadata": {},
   "source": [
    "### Javascript"
   ]
  },
  {
   "cell_type": "markdown",
   "id": "a353e13b",
   "metadata": {},
   "source": [
    "1. C'est quoi `CORS`?"
   ]
  },
  {
   "cell_type": "markdown",
   "id": "41c42561",
   "metadata": {},
   "source": [
    "2. C'est quoi la différence entre `==` et `===`"
   ]
  },
  {
   "cell_type": "markdown",
   "id": "1f54eab7",
   "metadata": {},
   "source": [
    "3. Qu'est ce que return `if ( \"0\" == \"true\" )`\n",
    "    1. 0\n",
    "    2. \"0\"\n",
    "    3. NULL\n",
    "    4. false"
   ]
  },
  {
   "cell_type": "markdown",
   "id": "98d3604a",
   "metadata": {},
   "source": [
    "4. Qu'est ce que `this`?"
   ]
  },
  {
   "cell_type": "markdown",
   "id": "1c938880",
   "metadata": {},
   "source": [
    "### CSS"
   ]
  },
  {
   "cell_type": "markdown",
   "id": "faa42924",
   "metadata": {},
   "source": [
    "1. Expliquez la différence entre le comportement de `inline` et `block`"
   ]
  },
  {
   "cell_type": "markdown",
   "id": "ec43d237",
   "metadata": {},
   "source": [
    "2. Est-il possible de créer un site web responsive sans media queries ?"
   ]
  },
  {
   "cell_type": "markdown",
   "id": "4cb4f821",
   "metadata": {},
   "source": [
    "3. Expliquez les avantages/inconvénients de l'utilisation d'éléments `inline-block`, `flex` ou `float`."
   ]
  },
  {
   "cell_type": "markdown",
   "id": "6e0022a1",
   "metadata": {},
   "source": [
    "### PHP"
   ]
  },
  {
   "cell_type": "markdown",
   "id": "f2827685",
   "metadata": {},
   "source": [
    "1. Écrivez un programme qui imprimera des nombres de 1 à 100, avec les conditions suivantes :\n",
    "    1. A la place de chaque nombre qui peut être divisé par 3, le programme imprimera Dev.\n",
    "    2. A la place de chaque nombre divisible par 5, le programme imprimera Ops.\n",
    "    3. A la place de chaque nombre divisible par 3 et 5, le programme imprimera DevOps."
   ]
  },
  {
   "cell_type": "markdown",
   "id": "1f7e3fd5",
   "metadata": {},
   "source": [
    "2. Ecrire une fonction qui vérifie si paramètre est en fait un nombre premier. \n",
    "`echo isPrime(73) ? 'Prime' : 'Composite';`"
   ]
  },
  {
   "cell_type": "markdown",
   "id": "57096691",
   "metadata": {},
   "source": [
    "3. Que signifie\n",
    "```\n",
    "    <?php\n",
    "        $array= [3, 8, -4, 0, 2, -9];\n",
    "        foreach ($array as &$item):\n",
    "            $item = ($item >= 0)? $item : pow($item, 2);\n",
    "        endforeach;\n",
    "        print_r($array);\n",
    "```"
   ]
  },
  {
   "cell_type": "markdown",
   "id": "7f6793a1",
   "metadata": {},
   "source": [
    "### DATABASE"
   ]
  },
  {
   "cell_type": "markdown",
   "id": "c18def64",
   "metadata": {},
   "source": [
    "Pour la table employee ci-dessous `(voir employee.sql)`\n",
    "   1. extraire le nombre d'employés par jour s'étant inscrit \n",
    "   2. extraire les employés ayant fait l'inscription le `3/10/2021`\n",
    "   3. extraire les employés ayant un email qui commence par `consonne` et qui a un chiffre avant le `@`\n",
    "   4. mettre first_name et last_name en `lowercase`\n",
    "   5. modifier la column `create_at` par `date_creation`\n",
    "   6. c'est quoi la differnce entre `delete` et `truncate`\n",
    "   7. imprimer la liste des employés qui ont un salaire plus que la somme de deux salaires minimum"
   ]
  },
  {
   "cell_type": "markdown",
   "id": "30c385fd",
   "metadata": {},
   "source": [
    "\n",
    "| id | first_name | last_name   | email                          | salaire | create_at           |\n",
    "|----|------------|-------------|--------------------------------|---------|---------------------|\n",
    "|  1 | Cammy      | Yegorkin    | cyegorkin0@usatoday.com        |   10188 | 2021-10-27 08:04:27 |\n",
    "|  2 | Shae       | Masham      | smasham1@ftc.gov               |   11601 | 2021-10-11 18:17:51 |\n",
    "|  3 | Hadlee     | Oakeshott   | hoakeshott2@ca.gov             |    5797 | 2021-10-13 11:14:04 |\n",
    "|  4 | Mora       | Krzyzowski  | mkrzyzowski3@usgs.gov          |    6665 | 2021-10-01 09:08:31 |\n",
    "|  5 | Jone       | Ellerman    | jellerman4@xing.com            |    8018 | 2021-10-18 06:49:23 |\n",
    "|  6 | Lynda      | Combe       | lcombe5@spotify.com            |    9423 | 2021-10-11 02:36:17 |\n",
    "|  7 | Leon       | Brusin      | lbrusin6@barnesandnoble.com    |    8644 | 2021-10-17 21:10:01 |\n",
    "|  8 | Dionysus   | Letford     | dletford7@simplemachines.org   |    9914 | 2021-10-17 10:45:06 |\n",
    "|  9 | Edithe     | Radborn     | eradborn8@360.cn               |   12534 | 2021-10-15 00:55:30 |\n",
    "| 10 | Darrelle   | Oxtiby      | doxtiby9@taobao.com            |   12483 | 2021-10-06 11:25:44 |\n",
    "| 11 | Kori       | Gissing     | kgissinga@kickstarter.com      |    9001 | 2021-10-03 17:00:23 |\n",
    "| 12 | Jordan     | Speedy      | jspeedyb@comsenz.com           |   10875 | 2021-10-19 07:36:37 |\n",
    "| 13 | Toinette   | Bradneck    | tbradneckc@merriam-webster.com |   12670 | 2021-10-25 10:15:28 |\n",
    "| 14 | Kissie     | Valentino   | kvalentinod@wikimedia.org      |    7285 | 2021-10-20 13:34:10 |\n",
    "| 15 | Letta      | Botwood     | lbotwoode@shutterfly.com       |    6648 | 2021-10-04 06:49:30 |\n",
    "| 16 | Claudetta  | Winram      | cwinramf@wsj.com               |   12494 | 2021-10-03 05:21:26 |\n",
    "| 17 | Joell      | Force       | jforceg@examiner.com           |    6346 | 2021-10-13 22:57:31 |\n",
    "| 18 | Sansone    | Comrie      | scomrieh@histats.com           |   11449 | 2021-10-26 15:04:28 |\n",
    "| 19 | Cherie     | Salmen      | csalmeni@comsenz.com           |    9870 | 2021-10-19 16:36:11 |\n",
    "| 20 | Hervey     | Mildmott    | hmildmottj@t-online.de         |    7783 | 2021-10-28 16:42:29 |\n",
    "| 21 | Dar        | Vasin       | dvasink@mysql.com              |   10383 | 2021-10-29 15:56:34 |\n",
    "| 22 | Dionis     | Riggulsford | driggulsfordl@pcworld.com      |    9191 | 2021-10-01 11:30:40 |\n",
    "| 23 | Dory       | St Clair    | dstclairm@harvard.edu          |   10854 | 2021-10-10 14:42:25 |\n",
    "| 24 | Ardeen     | Vardon      | avardonn@baidu.com             |   11460 | 2021-10-11 02:14:51 |\n",
    "| 25 | Coriss     | Linnemann   | clinnemanno@fc2.com            |    9248 | 2021-10-24 17:15:02 |\n",
    "| 26 | Itch       | Screech     | iscreechp@dedecms.com          |    5451 | 2021-10-21 15:28:28 |\n",
    "| 27 | Ingram     | Thorneley   | ithorneleyq@freewebs.com       |   12764 | 2021-10-21 21:13:23 |\n",
    "| 28 | Ellyn      | Deadman     | edeadmanr@w3.org               |    5630 | 2021-10-21 10:24:22 |\n",
    "| 29 | Brigit     | Pinckney    | bpinckneys@parallels.com       |   10501 | 2021-10-26 02:34:22 |\n",
    "| 30 | Gilbertina | Thurbon     | gthurbont@flavors.me           |    6167 | 2021-10-20 05:28:06 |\n"
   ]
  },
  {
   "cell_type": "markdown",
   "id": "08350c78",
   "metadata": {},
   "source": [
    "## Partie III\n",
    "### Pratique"
   ]
  },
  {
   "cell_type": "markdown",
   "id": "c2fc7e0b",
   "metadata": {},
   "source": [
    "- mobile: voir video\n",
    "- web: voir XD file"
   ]
  },
  {
   "cell_type": "markdown",
   "id": "05b17f04",
   "metadata": {},
   "source": [
    "# REPONSES"
   ]
  },
  {
   "cell_type": "markdown",
   "id": "a8e6de51",
   "metadata": {},
   "source": [
    "## Partie I\n",
    "### Informations générales"
   ]
  },
  {
   "cell_type": "markdown",
   "id": "2192e1e3",
   "metadata": {},
   "source": [
    "Nom et prénom : BENDRISS EL MOSTAFA\n",
    "    \n",
    "Je suis  élève Ingénieur informatique et réseaux en 5ème année à la recherche d''un stage PFE / pré-embauche\n",
    "\n",
    "Je m’intéresse particulièrement depuis un certain temps à la science des données cepandant je suis ouvert a toute proposition que se soit du développement, DEVOPS, Systèmes, DBA, Data, BI... \n",
    "\n",
    "A travers les differentes expériences de stage que j'ai eu, je ne suis pas loin d'une année d'experience."
   ]
  },
  {
   "cell_type": "markdown",
   "id": "68d4dee7",
   "metadata": {},
   "source": [
    "## Partie II\n",
    "### Questions Générales"
   ]
  },
  {
   "cell_type": "markdown",
   "id": "0ee0588e",
   "metadata": {},
   "source": [
    "1 -\n",
    "\n",
    "A- Git est un système de contrôle de version distribué, rapide et évolutif avec un jeu de commande, exceptionnellement riche qui fournit a la fois des opérations de haut niveau et un accès complet.\n",
    "\n",
    "B- Saas autrement dit Software As a Service est une catégorie de service qui s'offre en cloud qui a ce qu'apporte Infrastructure As a Service çad le contrôle sur l'infrastructure (matériel) et la partie logiciel çad les applications que le fournisseur gère également.\n",
    "\n",
    "C- Composer est un gestionnaire de dépendance Open Source en PHP.\n",
    "\n",
    "D- Object Pool Design est un design pattern agissant comme un conteneur d'obets utilisé dans le contexte quand le cout d'instanciation des objets est très élevé."
   ]
  },
  {
   "cell_type": "markdown",
   "id": "451e0b76",
   "metadata": {},
   "source": [
    "2- git diff est une commande Git qui permet d'afficher la difference entre les modifications faites sur un fichier "
   ]
  },
  {
   "cell_type": "markdown",
   "id": "fd6c1ac4",
   "metadata": {},
   "source": [
    "### Javascript"
   ]
  },
  {
   "cell_type": "markdown",
   "id": "a53eff71",
   "metadata": {},
   "source": [
    "1 - CORS autrement dit Cross-Origin Resource Sharing résout le problème de sécurité des requêtes client demandant des données à partir d'une API, ce qui met en danger cette dernière qu'elle accessible a n'importe qui, d'ou l'utilité de bloquer et limiter certaines ce type d'appel d'une source autre le domaine initial."
   ]
  },
  {
   "cell_type": "markdown",
   "id": "c699df15",
   "metadata": {},
   "source": [
    "2- double égal \"==\" vérifie l'égalité de deux valeurs alors que \"===\" vérifie le type et la valeur en meme temps. "
   ]
  },
  {
   "cell_type": "markdown",
   "id": "77513392",
   "metadata": {},
   "source": [
    "3- false"
   ]
  },
  {
   "cell_type": "markdown",
   "id": "489ae3ca",
   "metadata": {},
   "source": [
    "4- this est un opérateur ou mot-clé qui fait réference a un objet lui même."
   ]
  },
  {
   "cell_type": "markdown",
   "id": "fa0119b6",
   "metadata": {},
   "source": [
    "### CSS"
   ]
  },
  {
   "cell_type": "markdown",
   "id": "8305602a",
   "metadata": {},
   "source": [
    "1- On utilise inline pour que l'élement ne soit pas reste à la même ligne et qu'il doit occupé que l'espace nécessaire çad la largeur qu'il en a besoin, alors que block est utilisé pour que l'élement saute totalement la ligne et prend toute la largeur de cette ligne avec possibilité de donner des valeurs aux attributs width (largeur) et height (hauteur)."
   ]
  },
  {
   "cell_type": "markdown",
   "id": "8f06b999",
   "metadata": {},
   "source": [
    "2- Oui le moyen le plus utilisé aujourd'hui pour créer des site web flexible et responsive est l'utilisation de flexBox."
   ]
  },
  {
   "cell_type": "markdown",
   "id": "38594ce5",
   "metadata": {},
   "source": [
    "3- Inline-block : disposer des éléments les uns à côté des autres en spécifiant les dimensions depandant l'incovénient c'est que parfois des espaces aléatoires se créent entre les blocks.\n",
    "\n",
    "Flex : est très utile pour la création des pages responsive sans avoir recours aux reqêtes @media cepandant il est moins utile lorsequ'on parle du chevauchement des élements.\n",
    "\n",
    "Float : est plus performante quand il s'agit de la dispositon des images, cepandant elle crée des erreurs car en fin de compte les élements qui utilise la propriété float ne sont pas dans le flux de la page."
   ]
  },
  {
   "cell_type": "markdown",
   "id": "0c39099a",
   "metadata": {},
   "source": [
    "### PHP"
   ]
  },
  {
   "cell_type": "raw",
   "id": "b18e77e3",
   "metadata": {},
   "source": [
    "1- \n",
    "for ($i = 1; $i <= 100; $i++) {\n",
    "    if($i%3 == 0 && $i%5 == 0 ){ // On peut utiliser également $i%15 puisque le nombre divisible par 15 est a la fois divisible par 3 et par 5 (15= 3*5)\n",
    "        echo \"DevOps\"\n",
    "    }\n",
    "    elseif($i%3 == 0){\n",
    "        echo \"Dev\";\n",
    "    }\n",
    "    elseif($i%5 == 0){\n",
    "        echo \"Ops\";\n",
    "    }\n",
    "    else{\n",
    "        echo $i;\n",
    "    }\n",
    "}"
   ]
  },
  {
   "cell_type": "raw",
   "id": "84b0e0a5",
   "metadata": {},
   "source": [
    "2- \n",
    "function isPrime($val) {\n",
    "    for ($i = 2; $i < $val; $i++) {\n",
    "        if ($number % $i == 0) {\n",
    "            return FALSE;\n",
    "        }\n",
    "    }\n",
    "    return TRUE;\n",
    "}\n",
    "\n",
    "echo isPrime(73) ? 'Prime' : 'Composite';"
   ]
  },
  {
   "cell_type": "markdown",
   "id": "374bdce3",
   "metadata": {},
   "source": [
    "3- Ce programme fait la conversion des nombre entiers négatifs vers des nombres entiers positif grace a la fonction \"pow\" çad le carré sachant que le carré d'un entier négatif est un entier positif et ceci a travers le parcours d'un tableau qui verfie la positivité d'un nombre dans ce cas la valeur de cet élement du tableau ne change pas par contre s'il s'agit d'un entier négatif on le remplace par le carré de sa valeur afin d'obtenir un tableau d'entiers positifs. "
   ]
  },
  {
   "cell_type": "markdown",
   "id": "639158d0",
   "metadata": {},
   "source": [
    "### DATABASE"
   ]
  },
  {
   "cell_type": "markdown",
   "id": "936bf023",
   "metadata": {},
   "source": [
    "1- select strftime(\"%Y-%m-%d\",create_at) as date, COUNT(*) as Total from employee group by strftime(\"%Y-%m-%d\",create_at);"
   ]
  },
  {
   "cell_type": "markdown",
   "id": "6d5c1d55",
   "metadata": {},
   "source": [
    "2- select * from employee where strftime(\"%Y-%m-%d\",create_at) is '2021-10-03';"
   ]
  },
  {
   "cell_type": "markdown",
   "id": "b308d02e",
   "metadata": {},
   "source": [
    "3- select * from employee where email LIKE '[^aeuioAEUIO]%[0-9]@%';"
   ]
  },
  {
   "cell_type": "markdown",
   "id": "42a243fe",
   "metadata": {},
   "source": [
    "4- update employee set first_name = LOWER(first_name), last_name=LOWER(last_name);"
   ]
  },
  {
   "cell_type": "markdown",
   "id": "e5cd6763",
   "metadata": {},
   "source": [
    "5- \n",
    "alter table employee change create_at date_creation datetime; -- avec MySQL, ca n'a pas marché puisque j'utilise que SQLite  \n",
    "alter table employee rename create_at to date_creation; -- ceci marche sur SQLite"
   ]
  },
  {
   "cell_type": "markdown",
   "id": "2a0831fe",
   "metadata": {},
   "source": [
    "6- La différence entre DELETE et TRUNCATE, dèja on parle de deux types différents de requetes SQL, DELETE est une commande LMD alors que TRUNCATE est une commande LLD ce qui veut dire pour l'effectuer on doit avoir le droit ALTER sur cette table, également delete supprime les lignes physiquement par contre truncate vide toute la table avec un méchanisme différent çad la suppression ce fait on indiquant a l'SGBD que les données sont réutilisables ce qui veut dire physiquement on a toujours ces données stockés quelque part. "
   ]
  },
  {
   "cell_type": "markdown",
   "id": "c10c0b32",
   "metadata": {},
   "source": [
    "7- select first_name, salary from employee \n",
    "where salary > ( select ( ( select MIN(salary) from employee ) + ( select MIN(salary) from employee where salary not in ( select MIN(salary) from employee ) ) ) ) order by salary;\n"
   ]
  },
  {
   "cell_type": "markdown",
   "id": "5bc04128",
   "metadata": {},
   "source": []
  },
  {
   "cell_type": "code",
   "execution_count": null,
   "id": "d2d92855",
   "metadata": {},
   "outputs": [],
   "source": []
  }
 ],
 "metadata": {
  "kernelspec": {
   "display_name": "Python 3",
   "language": "python",
   "name": "python3"
  },
  "language_info": {
   "codemirror_mode": {
    "name": "ipython",
    "version": 3
   },
   "file_extension": ".py",
   "mimetype": "text/x-python",
   "name": "python",
   "nbconvert_exporter": "python",
   "pygments_lexer": "ipython3",
   "version": "3.8.8"
  }
 },
 "nbformat": 4,
 "nbformat_minor": 5
}
